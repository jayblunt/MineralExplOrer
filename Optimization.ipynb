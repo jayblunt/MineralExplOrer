{
 "cells": [
  {
   "cell_type": "code",
   "execution_count": 1,
   "id": "sufficient-parks",
   "metadata": {},
   "outputs": [],
   "source": [
    "%config IPCompleter.greedy=True"
   ]
  },
  {
   "cell_type": "code",
   "execution_count": 2,
   "id": "trying-webster",
   "metadata": {},
   "outputs": [],
   "source": [
    "%matplotlib inline"
   ]
  },
  {
   "cell_type": "code",
   "execution_count": 3,
   "id": "indian-shepherd",
   "metadata": {},
   "outputs": [],
   "source": [
    "import sys, os, re\n",
    "import locale\n",
    "import math\n",
    "import logging, inspect, pprint\n",
    "import configparser\n",
    "import functools\n",
    "\n",
    "import numpy as np\n",
    "import pandas as pd"
   ]
  },
  {
   "cell_type": "code",
   "execution_count": 4,
   "id": "joined-devices",
   "metadata": {},
   "outputs": [],
   "source": [
    "import matplotlib.pyplot as plt"
   ]
  },
  {
   "cell_type": "code",
   "execution_count": 5,
   "id": "occupational-duplicate",
   "metadata": {},
   "outputs": [
    {
     "data": {
      "text/plain": [
       "'en_US.UTF-8'"
      ]
     },
     "execution_count": 5,
     "metadata": {},
     "output_type": "execute_result"
    }
   ],
   "source": [
    "locale.setlocale(locale.LC_ALL, 'en_US.UTF-8')"
   ]
  },
  {
   "cell_type": "markdown",
   "id": "developing-process",
   "metadata": {},
   "source": [
    "# input_data.py contains our sample data, including hull quantites and me values"
   ]
  },
  {
   "cell_type": "code",
   "execution_count": 6,
   "id": "rapid-genetics",
   "metadata": {},
   "outputs": [],
   "source": [
    "import input_data"
   ]
  },
  {
   "cell_type": "code",
   "execution_count": null,
   "id": "pressed-intensity",
   "metadata": {},
   "outputs": [],
   "source": []
  },
  {
   "cell_type": "markdown",
   "id": "medium-growing",
   "metadata": {},
   "source": [
    "### what mineral types do we need to build these hulls (and what are their prices)"
   ]
  },
  {
   "cell_type": "code",
   "execution_count": 7,
   "id": "postal-simon",
   "metadata": {},
   "outputs": [],
   "source": [
    "mineral_ids = set(sum([[y for y in input_data.ore_yield_dict[x].keys()] for x in input_data.ore_yield_dict.keys()], []))\n",
    "mineral_prices = dict(zip(mineral_ids, [input_data.item_prices_dict[x] for x in mineral_ids]))"
   ]
  },
  {
   "cell_type": "markdown",
   "id": "sitting-throat",
   "metadata": {},
   "source": [
    "### how many of those types to build what we want"
   ]
  },
  {
   "cell_type": "code",
   "execution_count": 8,
   "id": "removed-equation",
   "metadata": {},
   "outputs": [
    {
     "name": "stdout",
     "output_type": "stream",
     "text": [
      "Thrasher     x  10 (10) = {34: 431163, 35: 103347, 36: 35793, 37: 15813, 38: 10, 39: 1620, 40: 234}\n",
      "Vexor        x   1 (10) = {34: 560000, 35: 120000, 36: 37000, 37: 9100, 38: 2601, 39: 1181, 40: 321}\n",
      "Total                   = {34: 991163, 35: 223347, 36: 72793, 37: 24913, 38: 2611, 39: 2801, 40: 555}\n"
     ]
    },
    {
     "data": {
      "text/html": [
       "<div>\n",
       "<style scoped>\n",
       "    .dataframe tbody tr th:only-of-type {\n",
       "        vertical-align: middle;\n",
       "    }\n",
       "\n",
       "    .dataframe tbody tr th {\n",
       "        vertical-align: top;\n",
       "    }\n",
       "\n",
       "    .dataframe thead th {\n",
       "        text-align: right;\n",
       "    }\n",
       "</style>\n",
       "<table border=\"1\" class=\"dataframe\">\n",
       "  <thead>\n",
       "    <tr style=\"text-align: right;\">\n",
       "      <th></th>\n",
       "      <th>34</th>\n",
       "      <th>35</th>\n",
       "      <th>36</th>\n",
       "      <th>37</th>\n",
       "      <th>38</th>\n",
       "      <th>39</th>\n",
       "      <th>40</th>\n",
       "    </tr>\n",
       "  </thead>\n",
       "  <tbody>\n",
       "    <tr>\n",
       "      <th>quantity</th>\n",
       "      <td>991163.0</td>\n",
       "      <td>223347.0</td>\n",
       "      <td>72793.0</td>\n",
       "      <td>24913.0</td>\n",
       "      <td>2611.0</td>\n",
       "      <td>2801.0</td>\n",
       "      <td>555.0</td>\n",
       "    </tr>\n",
       "  </tbody>\n",
       "</table>\n",
       "</div>"
      ],
      "text/plain": [
       "                34        35       36       37      38      39     40\n",
       "quantity  991163.0  223347.0  72793.0  24913.0  2611.0  2801.0  555.0"
      ]
     },
     "execution_count": 8,
     "metadata": {},
     "output_type": "execute_result"
    }
   ],
   "source": [
    "def calc_qty(count, quantity, me, fm):\n",
    "    # print(\"count:{}, quantity:{}, me:{}, fm:{}\".format(count, quantity, me, fm))\n",
    "    return round(max(float(count),\n",
    "        math.ceil(round(float(count)*(float(quantity)*(1.0-float(me)/100.0)*float(fm)), 2))))\n",
    "\n",
    "\n",
    "# add up the minerals for each ship order\n",
    "total_minerals = dict(zip(mineral_ids, [0] * len(mineral_ids)))\n",
    "for ship_id in input_data.ship_build_dict.keys():\n",
    "    ship_qty = input_data.ship_build_dict.get(ship_id, 0)\n",
    "    ship_me = input_data.ship_me_dict.get(ship_id, 0)\n",
    "    ship_minerals = dict(zip(mineral_ids,\n",
    "        [calc_qty(ship_qty, input_data.ship_requirements_dict[ship_id].get(mineral_id, 0), ship_me, 1.0) for mineral_id in sorted(list(mineral_ids))])\n",
    "        )\n",
    "    print(\"{:12s} x {:3} ({:2}) = {}\".format(input_data.item_info_dict[ship_id]['name'], ship_qty, ship_me, ship_minerals))\n",
    "    total_minerals = dict(zip(mineral_ids, \n",
    "        [total_minerals[x] + ship_minerals[x] for x in mineral_ids]\n",
    "    ))\n",
    "\n",
    "print(\"{:12s}            = {}\".format('Total', total_minerals))\n",
    "\n",
    "required_minerals_df = pd.DataFrame.from_dict(dict(zip(total_minerals.keys(), [{'quantity':total_minerals.get(x, 0)} for x in total_minerals.keys()]))).astype(np.double)\n",
    "required_minerals_series = required_minerals_df.loc['quantity',:]\n",
    "required_minerals_df.head()"
   ]
  },
  {
   "cell_type": "markdown",
   "id": "intelligent-heather",
   "metadata": {},
   "source": [
    "### how much would it cost to just buy the minerals directly"
   ]
  },
  {
   "cell_type": "code",
   "execution_count": 9,
   "id": "frozen-reggae",
   "metadata": {},
   "outputs": [
    {
     "name": "stdout",
     "output_type": "stream",
     "text": [
      "minerals_cost: 28,219,556\n"
     ]
    }
   ],
   "source": [
    "minerals_cost = np.int(sum([total_minerals.get(x, 0) * mineral_prices.get(x, 0) for x in mineral_ids]))\n",
    "print(\"minerals_cost: {:n}\".format(minerals_cost))"
   ]
  },
  {
   "cell_type": "markdown",
   "id": "rural-penetration",
   "metadata": {},
   "source": [
    "### refining efficiency - this is the variable that makes the most difference"
   ]
  },
  {
   "cell_type": "code",
   "execution_count": 10,
   "id": "retired-mention",
   "metadata": {},
   "outputs": [],
   "source": [
    "refining_efficiency = 0.50"
   ]
  },
  {
   "cell_type": "markdown",
   "id": "respiratory-establishment",
   "metadata": {},
   "source": [
    "### inputs (and their yield) - some experimentation here to reduce the number of inputs to make the optimization problem smaller (faster)"
   ]
  },
  {
   "cell_type": "code",
   "execution_count": 11,
   "id": "ignored-recovery",
   "metadata": {},
   "outputs": [
    {
     "data": {
      "text/html": [
       "<div>\n",
       "<style scoped>\n",
       "    .dataframe tbody tr th:only-of-type {\n",
       "        vertical-align: middle;\n",
       "    }\n",
       "\n",
       "    .dataframe tbody tr th {\n",
       "        vertical-align: top;\n",
       "    }\n",
       "\n",
       "    .dataframe thead th {\n",
       "        text-align: right;\n",
       "    }\n",
       "</style>\n",
       "<table border=\"1\" class=\"dataframe\">\n",
       "  <thead>\n",
       "    <tr style=\"text-align: right;\">\n",
       "      <th></th>\n",
       "      <th>28367</th>\n",
       "      <th>28388</th>\n",
       "      <th>28391</th>\n",
       "      <th>28397</th>\n",
       "      <th>28401</th>\n",
       "      <th>28403</th>\n",
       "      <th>28406</th>\n",
       "      <th>28410</th>\n",
       "      <th>28416</th>\n",
       "      <th>28420</th>\n",
       "      <th>28422</th>\n",
       "      <th>28424</th>\n",
       "      <th>28429</th>\n",
       "      <th>28432</th>\n",
       "    </tr>\n",
       "  </thead>\n",
       "  <tbody>\n",
       "    <tr>\n",
       "      <th>34</th>\n",
       "      <td>0.0</td>\n",
       "      <td>0.0</td>\n",
       "      <td>0.0</td>\n",
       "      <td>0.0</td>\n",
       "      <td>0.0</td>\n",
       "      <td>0.0</td>\n",
       "      <td>0.0</td>\n",
       "      <td>0.0</td>\n",
       "      <td>0.0</td>\n",
       "      <td>24000.0</td>\n",
       "      <td>87.0</td>\n",
       "      <td>0.0</td>\n",
       "      <td>75.0</td>\n",
       "      <td>200.0</td>\n",
       "    </tr>\n",
       "    <tr>\n",
       "      <th>36</th>\n",
       "      <td>600.0</td>\n",
       "      <td>600.0</td>\n",
       "      <td>1000.0</td>\n",
       "      <td>750.0</td>\n",
       "      <td>0.0</td>\n",
       "      <td>0.0</td>\n",
       "      <td>75.0</td>\n",
       "      <td>30.0</td>\n",
       "      <td>0.0</td>\n",
       "      <td>0.0</td>\n",
       "      <td>35.0</td>\n",
       "      <td>15.0</td>\n",
       "      <td>0.0</td>\n",
       "      <td>0.0</td>\n",
       "    </tr>\n",
       "    <tr>\n",
       "      <th>37</th>\n",
       "      <td>0.0</td>\n",
       "      <td>0.0</td>\n",
       "      <td>0.0</td>\n",
       "      <td>400.0</td>\n",
       "      <td>0.0</td>\n",
       "      <td>120.0</td>\n",
       "      <td>0.0</td>\n",
       "      <td>60.0</td>\n",
       "      <td>37.0</td>\n",
       "      <td>500.0</td>\n",
       "      <td>0.0</td>\n",
       "      <td>0.0</td>\n",
       "      <td>0.0</td>\n",
       "      <td>0.0</td>\n",
       "    </tr>\n",
       "    <tr>\n",
       "      <th>38</th>\n",
       "      <td>0.0</td>\n",
       "      <td>0.0</td>\n",
       "      <td>400.0</td>\n",
       "      <td>0.0</td>\n",
       "      <td>60.0</td>\n",
       "      <td>45.0</td>\n",
       "      <td>25.0</td>\n",
       "      <td>0.0</td>\n",
       "      <td>0.0</td>\n",
       "      <td>80.0</td>\n",
       "      <td>0.0</td>\n",
       "      <td>0.0</td>\n",
       "      <td>0.0</td>\n",
       "      <td>0.0</td>\n",
       "    </tr>\n",
       "    <tr>\n",
       "      <th>39</th>\n",
       "      <td>0.0</td>\n",
       "      <td>80.0</td>\n",
       "      <td>0.0</td>\n",
       "      <td>0.0</td>\n",
       "      <td>0.0</td>\n",
       "      <td>0.0</td>\n",
       "      <td>0.0</td>\n",
       "      <td>0.0</td>\n",
       "      <td>0.0</td>\n",
       "      <td>40.0</td>\n",
       "      <td>0.0</td>\n",
       "      <td>0.0</td>\n",
       "      <td>0.0</td>\n",
       "      <td>0.0</td>\n",
       "    </tr>\n",
       "  </tbody>\n",
       "</table>\n",
       "</div>"
      ],
      "text/plain": [
       "    28367  28388   28391  28397  28401  28403  28406  28410  28416    28420  \\\n",
       "34    0.0    0.0     0.0    0.0    0.0    0.0    0.0    0.0    0.0  24000.0   \n",
       "36  600.0  600.0  1000.0  750.0    0.0    0.0   75.0   30.0    0.0      0.0   \n",
       "37    0.0    0.0     0.0  400.0    0.0  120.0    0.0   60.0   37.0    500.0   \n",
       "38    0.0    0.0   400.0    0.0   60.0   45.0   25.0    0.0    0.0     80.0   \n",
       "39    0.0   80.0     0.0    0.0    0.0    0.0    0.0    0.0    0.0     40.0   \n",
       "\n",
       "    28422  28424  28429  28432  \n",
       "34   87.0    0.0   75.0  200.0  \n",
       "36   35.0   15.0    0.0    0.0  \n",
       "37    0.0    0.0    0.0    0.0  \n",
       "38    0.0    0.0    0.0    0.0  \n",
       "39    0.0    0.0    0.0    0.0  "
      ]
     },
     "execution_count": 11,
     "metadata": {},
     "output_type": "execute_result"
    }
   ],
   "source": [
    "# start with everything\n",
    "ore_yield_df = pd.DataFrame.from_dict(input_data.ore_yield_dict).fillna(0)\n",
    "ore_yield_df = ore_yield_df.mul(refining_efficiency).apply(np.floor)\n",
    "\n",
    "# only keep the compressed minerals\n",
    "ore_yield_df = ore_yield_df[list(filter(lambda x: input_data.item_info_dict[x].get('name', '').split()[0] == 'Compressed', list(ore_yield_df.columns)))]\n",
    "\n",
    "# cut this down even more - only keep the 'basic' compressed ore types \"Compressed Foo\", not \"Compressed Sparkling Foo\"\n",
    "ore_yield_df = ore_yield_df[list(filter(lambda x: len(input_data.item_info_dict[x].get('name', '').split()) == 2, list(ore_yield_df.columns)))]\n",
    "\n",
    "# include the minerals, they may be better than the ore - assume 1x mineral refines to .. 1x mineral\n",
    "# mineral_yield_df = pd.DataFrame.from_dict(dict(zip(mineral_ids, [{x:1} for x in mineral_ids]))).fillna(0).apply(np.floor)\n",
    "# inputs_yield_df = pd.concat([ore_yield_df, mineral_yield_df], axis=1).apply(np.floor)\n",
    "\n",
    "inputs_yield_df = ore_yield_df\n",
    "inputs_yield_df.head()"
   ]
  },
  {
   "cell_type": "markdown",
   "id": "excellent-fundamentals",
   "metadata": {},
   "source": [
    "### prices of all the things and also a subset for the inputs for convenience"
   ]
  },
  {
   "cell_type": "code",
   "execution_count": 12,
   "id": "lined-associate",
   "metadata": {},
   "outputs": [
    {
     "data": {
      "text/html": [
       "<div>\n",
       "<style scoped>\n",
       "    .dataframe tbody tr th:only-of-type {\n",
       "        vertical-align: middle;\n",
       "    }\n",
       "\n",
       "    .dataframe tbody tr th {\n",
       "        vertical-align: top;\n",
       "    }\n",
       "\n",
       "    .dataframe thead th {\n",
       "        text-align: right;\n",
       "    }\n",
       "</style>\n",
       "<table border=\"1\" class=\"dataframe\">\n",
       "  <thead>\n",
       "    <tr style=\"text-align: right;\">\n",
       "      <th></th>\n",
       "      <th>28367</th>\n",
       "      <th>28388</th>\n",
       "      <th>28391</th>\n",
       "      <th>28397</th>\n",
       "      <th>28401</th>\n",
       "      <th>28403</th>\n",
       "      <th>28406</th>\n",
       "      <th>28410</th>\n",
       "      <th>28416</th>\n",
       "      <th>28420</th>\n",
       "      <th>28422</th>\n",
       "      <th>28424</th>\n",
       "      <th>28429</th>\n",
       "      <th>28432</th>\n",
       "    </tr>\n",
       "  </thead>\n",
       "  <tbody>\n",
       "    <tr>\n",
       "      <th>price</th>\n",
       "      <td>368500.0</td>\n",
       "      <td>331800.0</td>\n",
       "      <td>953400.0</td>\n",
       "      <td>330700.0</td>\n",
       "      <td>249900.0</td>\n",
       "      <td>198900.0</td>\n",
       "      <td>109400.0</td>\n",
       "      <td>26500.0</td>\n",
       "      <td>15180.0</td>\n",
       "      <td>1217000.0</td>\n",
       "      <td>7890.0</td>\n",
       "      <td>5345.0</td>\n",
       "      <td>2367.0</td>\n",
       "      <td>1902.0</td>\n",
       "    </tr>\n",
       "  </tbody>\n",
       "</table>\n",
       "</div>"
      ],
      "text/plain": [
       "          28367     28388     28391     28397     28401     28403     28406  \\\n",
       "price  368500.0  331800.0  953400.0  330700.0  249900.0  198900.0  109400.0   \n",
       "\n",
       "         28410    28416      28420   28422   28424   28429   28432  \n",
       "price  26500.0  15180.0  1217000.0  7890.0  5345.0  2367.0  1902.0  "
      ]
     },
     "execution_count": 12,
     "metadata": {},
     "output_type": "execute_result"
    }
   ],
   "source": [
    "all_packaged_volumes_df = pd.DataFrame.from_dict(dict(zip(input_data.item_info_dict.keys(), [{'volume':input_data.item_info_dict[x].get('packagedVolume', 0)} for x in input_data.item_info_dict.keys()])))\n",
    "all_price_df = pd.DataFrame.from_dict(dict(zip(input_data.item_prices_dict.keys(), [{'price':input_data.item_prices_dict[x]} for x in input_data.item_prices_dict.keys()])))\n",
    "inputs_price_df = all_price_df[inputs_yield_df.columns]\n",
    "inputs_price_df.head() "
   ]
  },
  {
   "cell_type": "code",
   "execution_count": null,
   "id": "finished-appendix",
   "metadata": {},
   "outputs": [],
   "source": []
  },
  {
   "cell_type": "markdown",
   "id": "outer-clear",
   "metadata": {},
   "source": [
    "# yabox.algorithms.DE"
   ]
  },
  {
   "cell_type": "code",
   "execution_count": 13,
   "id": "diverse-harvey",
   "metadata": {},
   "outputs": [],
   "source": [
    "import yabox.algorithms"
   ]
  },
  {
   "cell_type": "markdown",
   "id": "vietnamese-writing",
   "metadata": {},
   "source": [
    "## in order to use the multiprocessing options, we need to be able to pickle the loss function. using pandas makes this hard"
   ]
  },
  {
   "cell_type": "code",
   "execution_count": 14,
   "id": "bridal-stick",
   "metadata": {},
   "outputs": [],
   "source": [
    "def summarize_results(results_fitness, results_data):\n",
    "    \n",
    "    result_series = pd.Series(data=results_data, index=inputs_yield_df.columns).apply(np.ceil)\n",
    "    result_cost = np.int(inputs_price_df[result_series.index].dot(result_series))\n",
    "    result_volume = np.int(np.ceil(all_packaged_volumes_df[result_series.index].dot(result_series)))\n",
    "\n",
    "    if results_fitness != None:\n",
    "        print(\"fitness: {:n}\".format(np.float(results_fitness)))\n",
    "\n",
    "    print(\"result_cost: {:n}\".format(result_cost))\n",
    "    print(\"({:.2f}x the cost of the required minerals cost)\".format(result_cost/minerals_cost))\n",
    "    print(\"result_volume: {:n}\".format(result_volume))\n",
    "\n",
    "    print(\"\")\n",
    "    actual_minerals_series = inputs_yield_df.mul(result_series).sum(axis=1)\n",
    "    excess_minerals_series = actual_minerals_series - required_minerals_series\n",
    "    print(\"excess_minerals_series\")\n",
    "    print(pd.DataFrame(excess_minerals_series).T)\n",
    "    if excess_minerals_series.min() < 0:\n",
    "        print(\"MISSING MINERALS\")\n",
    "        print(pd.DataFrame(excess_minerals_series[excess_minerals_series.lt(0)]).T)\n",
    "    \n",
    "    result_mineral_cost = np.int(all_price_df[actual_minerals_series.index].dot(actual_minerals_series).apply(np.int))\n",
    "    result_mineral_volume = np.int(np.ceil(all_packaged_volumes_df[actual_minerals_series.index].dot(actual_minerals_series)))\n",
    "\n",
    "    print(\"\")\n",
    "    print(\"result_mineral_cost: {:n}\".format(result_mineral_cost))\n",
    "    print(\"({:.2f}x the cost of the required minerals cost)\".format(result_mineral_cost/minerals_cost))\n",
    "    print(\"result_mineral_volume: {:n}\".format(result_mineral_volume))"
   ]
  },
  {
   "cell_type": "code",
   "execution_count": 15,
   "id": "stock-seven",
   "metadata": {},
   "outputs": [],
   "source": [
    "def get_input_bounds(required_minerals_df, inputs_yield_df):\n",
    "    required_minerals_series = pd.Series(data=required_minerals_df.T.quantity)\n",
    "    inverted_inputs_yield_df = (1.0 / inputs_yield_df).replace(np.inf, 0).fillna(0)\n",
    "    max_bound_series = pd.Series(data=inverted_inputs_yield_df.apply(lambda x: np.asarray(x) * np.asarray(required_minerals_series)).apply(np.ceil).max())\n",
    "    min_bound_series = pd.Series(data=np.zeros(len(max_bound_series.index)), index=max_bound_series.index)\n",
    "    return list(zip(min_bound_series, max_bound_series))\n",
    "\n",
    "\n",
    "def get_maximum_cost(required_minerals_df, inputs_price_df, inputs_yield_df):\n",
    "    required_minerals_series = pd.Series(data=required_minerals_df.T.quantity)\n",
    "    inverted_inputs_yield_df = (1.0 / inputs_yield_df).replace(np.inf, 0).fillna(0)\n",
    "    max_bound_series = pd.Series(inverted_inputs_yield_df.apply(lambda x: np.asarray(x) * np.asarray(required_minerals_series)).apply(np.ceil).max(), name='max')\n",
    "    return np.double(inputs_price_df[max_bound_series.index].dot(max_bound_series))\n",
    "\n",
    "\n",
    "def get_loss_function(all_price_df, required_minerals_df, inputs_yield_df, maximum_cost):\n",
    "\n",
    "    yield_price_series = all_price_df[inputs_yield_df.columns].loc['price',:]\n",
    "    mineral_price_series = all_price_df[required_minerals_df.columns].loc['price',:]    \n",
    "    required_minerals_series = required_minerals_df.loc['quantity',:]\n",
    "\n",
    "    def objective(candidate):\n",
    "        candidate_cost = np.double(yield_price_series.dot(candidate))\n",
    "        if candidate_cost < 0: \n",
    "            print(\"cost:{}. candidate:{}\".format(candidate_cost, candidate))\n",
    "            return maximum_cost\n",
    "        \n",
    "        # add an extra penalty if we are missing any minerals\n",
    "        # this make the loss function *slow*\n",
    "        actual_minerals_series = inputs_yield_df.mul(candidate).sum(axis=1)\n",
    "        excess_minerals_series = (actual_minerals_series - required_minerals_series)\n",
    "        if excess_minerals_series.min() < 0:\n",
    "            #print(\"excess_minerals_series:{}\".format(excess_minerals_series))\n",
    "            # excess_minerals_series = excess_minerals_series[excess_minerals_series.lt(0)]\n",
    "            missing_minerals_price = np.abs(np.int(mineral_price_series[excess_minerals_series.index].dot(excess_minerals_series)))\n",
    "            candidate_cost += 1000000.0 * missing_minerals_price\n",
    "\n",
    "        return candidate_cost - maximum_cost\n",
    "\n",
    "    return objective\n"
   ]
  },
  {
   "cell_type": "code",
   "execution_count": 16,
   "id": "fifth-amplifier",
   "metadata": {},
   "outputs": [],
   "source": [
    "loss_function = get_loss_function(all_price_df, required_minerals_df, inputs_yield_df, get_maximum_cost(required_minerals_df, inputs_price_df, inputs_yield_df))\n",
    "input_bounds = get_input_bounds(required_minerals_df, inputs_yield_df)"
   ]
  },
  {
   "cell_type": "code",
   "execution_count": 17,
   "id": "steady-reset",
   "metadata": {},
   "outputs": [
    {
     "data": {
      "application/vnd.jupyter.widget-view+json": {
       "model_id": "5fc37d536d9c47709ca068f8f079b367",
       "version_major": 2,
       "version_minor": 0
      },
      "text/plain": [
       "Optimizing (DE):   0%|          | 0/1000 [00:00<?, ?it/s]"
      ]
     },
     "metadata": {},
     "output_type": "display_data"
    }
   ],
   "source": [
    "rval = yabox.algorithms.DE(loss_function, input_bounds, maxiters=1000).solve(show_progress=True)"
   ]
  },
  {
   "cell_type": "code",
   "execution_count": 18,
   "id": "czech-daily",
   "metadata": {},
   "outputs": [
    {
     "data": {
      "text/plain": [
       "(array([[9.44682165e+00, 3.54270622e+01, 6.08844172e+00, 1.98210584e+01,\n",
       "         4.21248676e+00, 2.27141886e+00, 2.77996815e+00, 1.75013716e+02,\n",
       "         1.49779114e+02, 1.45160131e+00, 3.84874174e+02, 4.29191704e+02,\n",
       "         2.49481283e+03, 4.20890550e+03]]),\n",
       " -1883539776.1493366)"
      ]
     },
     "execution_count": 18,
     "metadata": {},
     "output_type": "execute_result"
    }
   ],
   "source": [
    "rval"
   ]
  },
  {
   "cell_type": "code",
   "execution_count": 19,
   "id": "placed-alliance",
   "metadata": {},
   "outputs": [
    {
     "name": "stdout",
     "output_type": "stream",
     "text": [
      "fitness: -1.88354e+09\n",
      "result_cost: 59,714,183\n",
      "(2.12x the cost of the required minerals cost)\n",
      "result_volume: 1,709\n",
      "\n",
      "excess_minerals_series\n",
      "         34       35      36     37     38     39    40\n",
      "0  119257.0  12553.0  2237.0  557.0  859.0  159.0  85.0\n",
      "\n",
      "result_mineral_cost: 30,782,512\n",
      "(1.09x the cost of the required minerals cost)\n",
      "result_mineral_volume: 14,539\n"
     ]
    }
   ],
   "source": [
    "summarize_results(rval[1], rval[0][0])"
   ]
  },
  {
   "cell_type": "code",
   "execution_count": null,
   "id": "hazardous-correspondence",
   "metadata": {},
   "outputs": [],
   "source": []
  },
  {
   "cell_type": "markdown",
   "id": "familiar-there",
   "metadata": {},
   "source": [
    "# scipy.optimize.differential_evolution"
   ]
  },
  {
   "cell_type": "code",
   "execution_count": 20,
   "id": "passing-shoulder",
   "metadata": {},
   "outputs": [],
   "source": [
    "import scipy.optimize"
   ]
  },
  {
   "cell_type": "markdown",
   "id": "occupational-civilian",
   "metadata": {},
   "source": [
    "### someimtes the scipy optimizer violates (lower) bounds and I have no idea why."
   ]
  },
  {
   "cell_type": "code",
   "execution_count": 21,
   "id": "asian-indian",
   "metadata": {},
   "outputs": [],
   "source": [
    "scipy_input_bounds = scipy.optimize.Bounds(list(map(lambda x: x[0], input_bounds)), list(map(lambda x: x[1], input_bounds)))"
   ]
  },
  {
   "cell_type": "code",
   "execution_count": 22,
   "id": "aggressive-internship",
   "metadata": {},
   "outputs": [],
   "source": [
    "rval = scipy.optimize.differential_evolution(loss_function, scipy_input_bounds)"
   ]
  },
  {
   "cell_type": "code",
   "execution_count": 23,
   "id": "directed-american",
   "metadata": {},
   "outputs": [
    {
     "data": {
      "text/plain": [
       "     fun: -1866689655.076872\n",
       " message: 'Optimization terminated successfully.'\n",
       "    nfev: 17535\n",
       "     nit: 81\n",
       " success: True\n",
       "       x: array([9.53677125e+00, 4.49771951e+01, 7.01879133e+00, 2.33736094e+01,\n",
       "       1.81385868e+01, 3.95491207e+00, 5.67489227e+01, 2.49061734e+02,\n",
       "       1.16407080e+02, 2.83742763e+00, 1.70309108e+02, 8.17695020e+01,\n",
       "       4.33487585e+03, 3.11503537e+03])"
      ]
     },
     "execution_count": 23,
     "metadata": {},
     "output_type": "execute_result"
    }
   ],
   "source": [
    "rval"
   ]
  },
  {
   "cell_type": "code",
   "execution_count": 24,
   "id": "recent-monster",
   "metadata": {},
   "outputs": [
    {
     "name": "stdout",
     "output_type": "stream",
     "text": [
      "fitness: -1.86669e+09\n",
      "result_cost: 75,986,617\n",
      "(2.69x the cost of the required minerals cost)\n",
      "result_volume: 1,910\n",
      "\n",
      "excess_minerals_series\n",
      "        34        35      36      37      38     39     40\n",
      "0  44039.0  100158.0  5197.0  5996.0  3574.0  919.0  105.0\n",
      "\n",
      "result_mineral_cost: 36,620,178\n",
      "(1.30x the cost of the required minerals cost)\n",
      "result_mineral_volume: 14,782\n"
     ]
    }
   ],
   "source": [
    "summarize_results(rval.fun, rval.x)"
   ]
  },
  {
   "cell_type": "code",
   "execution_count": null,
   "id": "addressed-connectivity",
   "metadata": {},
   "outputs": [],
   "source": []
  },
  {
   "cell_type": "markdown",
   "id": "private-antique",
   "metadata": {},
   "source": [
    "# PyMathProg (pymprog as used by https://github.com/sergey-koumirov/AesPublica/blob/master/app/services/optimize.py)"
   ]
  },
  {
   "cell_type": "code",
   "execution_count": 25,
   "id": "initial-justice",
   "metadata": {},
   "outputs": [],
   "source": [
    "# import pymprog"
   ]
  }
 ],
 "metadata": {
  "kernelspec": {
   "display_name": "Python 3",
   "language": "python",
   "name": "python3"
  },
  "language_info": {
   "codemirror_mode": {
    "name": "ipython",
    "version": 3
   },
   "file_extension": ".py",
   "mimetype": "text/x-python",
   "name": "python",
   "nbconvert_exporter": "python",
   "pygments_lexer": "ipython3",
   "version": "3.9.1"
  }
 },
 "nbformat": 4,
 "nbformat_minor": 5
}
