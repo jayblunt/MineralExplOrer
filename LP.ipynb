{
 "cells": [
  {
   "cell_type": "code",
   "execution_count": 1,
   "id": "binary-designer",
   "metadata": {},
   "outputs": [],
   "source": [
    "%config IPCompleter.greedy=True"
   ]
  },
  {
   "cell_type": "code",
   "execution_count": 2,
   "id": "early-stadium",
   "metadata": {},
   "outputs": [],
   "source": [
    "import sys, os, re\n",
    "import locale\n",
    "import math"
   ]
  },
  {
   "cell_type": "code",
   "execution_count": 3,
   "id": "increased-aerospace",
   "metadata": {},
   "outputs": [
    {
     "data": {
      "text/plain": [
       "'en_US.UTF-8'"
      ]
     },
     "execution_count": 3,
     "metadata": {},
     "output_type": "execute_result"
    }
   ],
   "source": [
    "locale.setlocale(locale.LC_ALL, 'en_US.UTF-8')"
   ]
  },
  {
   "cell_type": "markdown",
   "id": "intended-moscow",
   "metadata": {},
   "source": [
    "# input_data.py contains our sample data, including hull quantites and me values"
   ]
  },
  {
   "cell_type": "code",
   "execution_count": 4,
   "id": "marked-pottery",
   "metadata": {},
   "outputs": [],
   "source": [
    "import input_data"
   ]
  },
  {
   "cell_type": "code",
   "execution_count": null,
   "id": "imperial-debate",
   "metadata": {},
   "outputs": [],
   "source": []
  },
  {
   "cell_type": "markdown",
   "id": "substantial-closer",
   "metadata": {},
   "source": [
    "### what mineral types do we need to build these hulls (and what are their prices)"
   ]
  },
  {
   "cell_type": "code",
   "execution_count": 5,
   "id": "drawn-parks",
   "metadata": {},
   "outputs": [],
   "source": [
    "mineral_ids = sorted(list(set((sum([[m for m in input_data.ore_yield_dict[o].keys()] for o in input_data.ore_yield_dict.keys()], [])))))\n",
    "mineral_names = [input_data.item_info_dict[m].get('name', '') for m in mineral_ids]\n",
    "mineral_prices = [input_data.item_prices_dict[m] for m in mineral_ids]"
   ]
  },
  {
   "cell_type": "code",
   "execution_count": 6,
   "id": "auburn-graphics",
   "metadata": {},
   "outputs": [
    {
     "data": {
      "text/plain": [
       "{'Tritanium': 6.32,\n",
       " 'Pyerite': 17.5,\n",
       " 'Mexallon': 137.7,\n",
       " 'Isogen': 36.5,\n",
       " 'Nocxium': 1159.0,\n",
       " 'Zydrine': 1335.0,\n",
       " 'Megacyte': 627.8}"
      ]
     },
     "execution_count": 6,
     "metadata": {},
     "output_type": "execute_result"
    }
   ],
   "source": [
    "dict(zip(mineral_names, mineral_prices))"
   ]
  },
  {
   "cell_type": "markdown",
   "id": "former-purchase",
   "metadata": {},
   "source": [
    "### how many of those types to build what we want"
   ]
  },
  {
   "cell_type": "code",
   "execution_count": 7,
   "id": "normal-shore",
   "metadata": {},
   "outputs": [
    {
     "name": "stdout",
     "output_type": "stream",
     "text": [
      "Thrasher     x  10 (10) = {34: 431163, 35: 103347, 36: 35793, 37: 15813, 38: 10, 39: 1620, 40: 234}\n",
      "Vexor        x   1 (10) = {34: 560000, 35: 120000, 36: 37000, 37: 9100, 38: 2601, 39: 1181, 40: 321}\n",
      "Total                   = {34: 991163, 35: 223347, 36: 72793, 37: 24913, 38: 2611, 39: 2801, 40: 555}\n"
     ]
    }
   ],
   "source": [
    "def calc_qty(count, quantity, me, fm):\n",
    "    return round(max(float(count),\n",
    "        math.ceil(round(float(count)*(float(quantity)*(1.0-float(me)/100.0)*float(fm)), 2))))\n",
    "\n",
    "\n",
    "# add up the minerals for each ship order\n",
    "total_minerals = dict(zip(mineral_ids, [0] * len(mineral_ids)))\n",
    "for ship_id in input_data.ship_build_dict.keys():\n",
    "    ship_qty = input_data.ship_build_dict.get(ship_id, 0)\n",
    "    ship_me = input_data.ship_me_dict.get(ship_id, 0)\n",
    "    ship_minerals = dict(zip(mineral_ids,\n",
    "        [calc_qty(ship_qty, input_data.ship_requirements_dict[ship_id].get(m, 0), ship_me, 1.0) for m in sorted(list(mineral_ids))])\n",
    "        )\n",
    "    print(\"{:12s} x {:3} ({:2}) = {}\".format(input_data.item_info_dict[ship_id]['name'], ship_qty, ship_me, ship_minerals))\n",
    "    total_minerals = dict(zip(mineral_ids, \n",
    "        [total_minerals[x] + ship_minerals[x] for x in mineral_ids]\n",
    "    ))\n",
    "\n",
    "print(\"{:12s}            = {}\".format('Total', total_minerals))\n",
    "\n",
    "required_minerals = [total_minerals.get(m, 0) for m in mineral_ids]"
   ]
  },
  {
   "cell_type": "code",
   "execution_count": 8,
   "id": "helpful-flash",
   "metadata": {},
   "outputs": [
    {
     "name": "stdout",
     "output_type": "stream",
     "text": [
      "[991163, 223347, 72793, 24913, 2611, 2801, 555]\n"
     ]
    }
   ],
   "source": [
    "print(required_minerals)"
   ]
  },
  {
   "cell_type": "markdown",
   "id": "academic-repository",
   "metadata": {},
   "source": [
    "### how much would it cost to just buy the minerals directly"
   ]
  },
  {
   "cell_type": "code",
   "execution_count": 9,
   "id": "saved-experiment",
   "metadata": {},
   "outputs": [],
   "source": [
    "minerals_cost = int(sum([required_minerals[mi] * mineral_prices[mi] for mi in range(len(mineral_ids))]))"
   ]
  },
  {
   "cell_type": "code",
   "execution_count": 10,
   "id": "productive-history",
   "metadata": {},
   "outputs": [
    {
     "name": "stdout",
     "output_type": "stream",
     "text": [
      "minerals_cost: 28,219,556 ISK\n"
     ]
    }
   ],
   "source": [
    "print(\"minerals_cost: {:n} ISK\".format(minerals_cost))"
   ]
  },
  {
   "cell_type": "markdown",
   "id": "realistic-scratch",
   "metadata": {},
   "source": [
    "### refining efficiency - this is the variable that makes the most difference"
   ]
  },
  {
   "cell_type": "code",
   "execution_count": 11,
   "id": "developed-packing",
   "metadata": {},
   "outputs": [],
   "source": [
    "refining_efficiency = 0.50"
   ]
  },
  {
   "cell_type": "markdown",
   "id": "disabled-things",
   "metadata": {},
   "source": [
    "### inputs (and their yield) - some experimentation here to reduce the number of inputs to make the optimization problem smaller (faster)"
   ]
  },
  {
   "cell_type": "code",
   "execution_count": 12,
   "id": "certain-allowance",
   "metadata": {},
   "outputs": [],
   "source": [
    "ore_ids = sorted(list(filter(lambda x: input_data.item_info_dict[x].get('name', '').split()[0] == 'Compressed', list(input_data.ore_yield_dict.keys()))))\n",
    "\n",
    "# cut back the list of ore so we only have the 'basic' compressed types. still works if you skip this next line, but larger data-set -> harder to verify manually.\n",
    "ore_ids = sorted(list(filter(lambda x: len(input_data.item_info_dict[x].get('name', '').split()) == 2, ore_ids)))\n",
    "\n",
    "ore_yields = dict(zip(ore_ids, [dict(zip(mineral_ids, [math.floor(refining_efficiency * input_data.ore_yield_dict[o].get(m, 0)) for m in mineral_ids])) for o in ore_ids]))\n",
    "ore_names = [input_data.item_info_dict[o].get('name', '') for o in ore_ids]\n",
    "ore_packaged_volume = [input_data.item_info_dict[o].get('packagedVolume', '') for o in ore_ids]\n",
    "ore_prices = [input_data.item_prices_dict[o] for o in ore_ids]"
   ]
  },
  {
   "cell_type": "code",
   "execution_count": 13,
   "id": "consolidated-cigarette",
   "metadata": {},
   "outputs": [
    {
     "data": {
      "text/plain": [
       "{'Compressed Arkonor': 368500.0,\n",
       " 'Compressed Bistot': 331800.0,\n",
       " 'Compressed Crokite': 953400.0,\n",
       " 'Compressed Gneiss': 330700.0,\n",
       " 'Compressed Hedbergite': 249900.0,\n",
       " 'Compressed Hemorphite': 198900.0,\n",
       " 'Compressed Jaspet': 109400.0,\n",
       " 'Compressed Kernite': 26500.0,\n",
       " 'Compressed Omber': 15180.0,\n",
       " 'Compressed Spodumain': 1217000.0,\n",
       " 'Compressed Plagioclase': 7890.0,\n",
       " 'Compressed Pyroxeres': 5345.0,\n",
       " 'Compressed Scordite': 2367.0,\n",
       " 'Compressed Veldspar': 1902.0}"
      ]
     },
     "execution_count": 13,
     "metadata": {},
     "output_type": "execute_result"
    }
   ],
   "source": [
    "dict(zip(ore_names, ore_prices))"
   ]
  },
  {
   "cell_type": "code",
   "execution_count": 14,
   "id": "extreme-encounter",
   "metadata": {},
   "outputs": [
    {
     "data": {
      "text/plain": [
       "{28367: {34: 0, 35: 1600, 36: 600, 37: 0, 38: 0, 39: 0, 40: 60},\n",
       " 28388: {34: 0, 35: 1600, 36: 600, 37: 0, 38: 0, 39: 80, 40: 0},\n",
       " 28391: {34: 0, 35: 400, 36: 1000, 37: 0, 38: 400, 39: 0, 40: 0},\n",
       " 28397: {34: 0, 35: 1000, 36: 750, 37: 400, 38: 0, 39: 0, 40: 0},\n",
       " 28401: {34: 0, 35: 225, 36: 0, 37: 0, 38: 60, 39: 0, 40: 0},\n",
       " 28403: {34: 0, 35: 0, 36: 0, 37: 120, 38: 45, 39: 0, 40: 0},\n",
       " 28406: {34: 0, 35: 0, 36: 75, 37: 0, 38: 25, 39: 0, 40: 0},\n",
       " 28410: {34: 0, 35: 0, 36: 30, 37: 60, 38: 0, 39: 0, 40: 0},\n",
       " 28416: {34: 0, 35: 45, 36: 0, 37: 37, 38: 0, 39: 0, 40: 0},\n",
       " 28420: {34: 24000, 35: 0, 36: 0, 37: 500, 38: 80, 39: 40, 40: 20},\n",
       " 28422: {34: 87, 35: 0, 36: 35, 37: 0, 38: 0, 39: 0, 40: 0},\n",
       " 28424: {34: 0, 35: 45, 36: 15, 37: 0, 38: 0, 39: 0, 40: 0},\n",
       " 28429: {34: 75, 35: 45, 36: 0, 37: 0, 38: 0, 39: 0, 40: 0},\n",
       " 28432: {34: 200, 35: 0, 36: 0, 37: 0, 38: 0, 39: 0, 40: 0}}"
      ]
     },
     "execution_count": 14,
     "metadata": {},
     "output_type": "execute_result"
    }
   ],
   "source": [
    "ore_yields"
   ]
  },
  {
   "cell_type": "code",
   "execution_count": null,
   "id": "measured-asbestos",
   "metadata": {},
   "outputs": [],
   "source": []
  },
  {
   "cell_type": "code",
   "execution_count": 15,
   "id": "clear-paradise",
   "metadata": {},
   "outputs": [],
   "source": [
    "import pymprog"
   ]
  },
  {
   "cell_type": "code",
   "execution_count": 16,
   "id": "logical-excerpt",
   "metadata": {},
   "outputs": [],
   "source": [
    "def calc_optimal_ores(mineral_ids, ore_ids, required_minerals, ore_prices_list, ore_yield_list):\n",
    "    p = pymprog.model('MineralExplOrer')\n",
    "    p.verbose(False)\n",
    "    x = p.var('x', len(ore_ids), kind=int)\n",
    "    p.minimize(sum(x[oi] * ore_prices_list[oi] for oi in range(len(ore_ids))))\n",
    "    [[sum(x[oi]*ore_yield_list[oi][mi] for oi in range(len(ore_ids))) >= required_minerals[mi]] for mi in range(len(mineral_ids))]\n",
    "    p.solver(solver='simplex', msg_lev=pymprog.glpk.GLP_MSG_OFF)\n",
    "    p.solve()\n",
    "    results = [0.0 for oi in range(len(ore_ids))]\n",
    "    if p.get_status() in [ pymprog.glpk.GLP_OPT , pymprog.glpk.GLP_FEAS ]:\n",
    "        results = [int(x[oi].primal) for oi in range(len(ore_ids))]\n",
    "    p.end()\n",
    "    return results"
   ]
  },
  {
   "cell_type": "code",
   "execution_count": 17,
   "id": "functioning-luxembourg",
   "metadata": {},
   "outputs": [
    {
     "name": "stdout",
     "output_type": "stream",
     "text": [
      "mineral_ids: [34, 35, 36, 37, 38, 39, 40]\n"
     ]
    }
   ],
   "source": [
    "print(\"mineral_ids: {}\".format(mineral_ids))"
   ]
  },
  {
   "cell_type": "code",
   "execution_count": 18,
   "id": "directed-thickness",
   "metadata": {},
   "outputs": [
    {
     "name": "stdout",
     "output_type": "stream",
     "text": [
      "ore_ids: [28367, 28388, 28391, 28397, 28401, 28403, 28406, 28410, 28416, 28420, 28422, 28424, 28429, 28432]\n"
     ]
    }
   ],
   "source": [
    "print(\"ore_ids: {}\".format(ore_ids))"
   ]
  },
  {
   "cell_type": "code",
   "execution_count": 19,
   "id": "narrative-participant",
   "metadata": {},
   "outputs": [
    {
     "name": "stdout",
     "output_type": "stream",
     "text": [
      "required_minerals: [991163, 223347, 72793, 24913, 2611, 2801, 555]\n"
     ]
    }
   ],
   "source": [
    "print(\"required_minerals: {}\".format(required_minerals))"
   ]
  },
  {
   "cell_type": "code",
   "execution_count": 20,
   "id": "verified-drilling",
   "metadata": {},
   "outputs": [
    {
     "name": "stdout",
     "output_type": "stream",
     "text": [
      "ore_prices: [368500.0, 331800.0, 953400.0, 330700.0, 249900.0, 198900.0, 109400.0, 26500.0, 15180.0, 1217000.0, 7890.0, 5345.0, 2367.0, 1902.0]\n"
     ]
    }
   ],
   "source": [
    "print(\"ore_prices: {}\".format(ore_prices))"
   ]
  },
  {
   "cell_type": "code",
   "execution_count": 21,
   "id": "excess-character",
   "metadata": {},
   "outputs": [
    {
     "name": "stdout",
     "output_type": "stream",
     "text": [
      "ore_yield_list: [[0, 1600, 600, 0, 0, 0, 60], [0, 1600, 600, 0, 0, 80, 0], [0, 400, 1000, 0, 400, 0, 0], [0, 1000, 750, 400, 0, 0, 0], [0, 225, 0, 0, 60, 0, 0], [0, 0, 0, 120, 45, 0, 0], [0, 0, 75, 0, 25, 0, 0], [0, 0, 30, 60, 0, 0, 0], [0, 45, 0, 37, 0, 0, 0], [24000, 0, 0, 500, 80, 40, 20], [87, 0, 35, 0, 0, 0, 0], [0, 45, 15, 0, 0, 0, 0], [75, 45, 0, 0, 0, 0, 0], [200, 0, 0, 0, 0, 0, 0]]\n"
     ]
    }
   ],
   "source": [
    "ore_yield_list = [[ore_yields[o][i] for i in mineral_ids] for o in ore_ids]\n",
    "print(\"ore_yield_list: {}\".format(ore_yield_list))"
   ]
  },
  {
   "cell_type": "code",
   "execution_count": 22,
   "id": "hydraulic-kidney",
   "metadata": {},
   "outputs": [],
   "source": [
    "rval = calc_optimal_ores(mineral_ids, ore_ids, required_minerals, ore_prices, ore_yield_list)"
   ]
  },
  {
   "cell_type": "code",
   "execution_count": 23,
   "id": "crazy-favor",
   "metadata": {},
   "outputs": [
    {
     "name": "stdout",
     "output_type": "stream",
     "text": [
      "[10, 36, 7, 0, 0, 0, 0, 414, 2, 0, 736, 1, 3263, 3413]\n"
     ]
    }
   ],
   "source": [
    "print(rval)"
   ]
  },
  {
   "cell_type": "code",
   "execution_count": 24,
   "id": "racial-motel",
   "metadata": {},
   "outputs": [
    {
     "name": "stdout",
     "output_type": "stream",
     "text": [
      "actual_ore: {'Compressed Arkonor': 10, 'Compressed Bistot': 36, 'Compressed Crokite': 7, 'Compressed Gneiss': 0, 'Compressed Hedbergite': 0, 'Compressed Hemorphite': 0, 'Compressed Jaspet': 0, 'Compressed Kernite': 414, 'Compressed Omber': 2, 'Compressed Spodumain': 0, 'Compressed Plagioclase': 736, 'Compressed Pyroxeres': 1, 'Compressed Scordite': 3263, 'Compressed Veldspar': 3413}\n",
      "actual_ore_cost: 53,332,392 ISK\n",
      "actual_ore_packaged_volume: 1,622 m3\n"
     ]
    }
   ],
   "source": [
    "actual_ore_cost = int(sum([rval[oi] * ore_prices[oi] for oi in range(len(ore_ids))]))\n",
    "actual_ore_packaged_volume = int(sum([rval[oi] * ore_packaged_volume[oi] for oi in range(len(ore_ids))]))\n",
    "print(\"actual_ore: {}\".format(dict(zip(ore_names, rval))))\n",
    "print(\"actual_ore_cost: {:n} ISK\".format(actual_ore_cost))\n",
    "print(\"actual_ore_packaged_volume: {:n} m3\".format(actual_ore_packaged_volume))"
   ]
  },
  {
   "cell_type": "code",
   "execution_count": 25,
   "id": "wireless-claim",
   "metadata": {},
   "outputs": [
    {
     "name": "stdout",
     "output_type": "stream",
     "text": [
      "Compressed Arkonor,10\n",
      "Compressed Bistot,36\n",
      "Compressed Crokite,7\n",
      "Compressed Kernite,414\n",
      "Compressed Omber,2\n",
      "Compressed Plagioclase,736\n",
      "Compressed Pyroxeres,1\n",
      "Compressed Scordite,3263\n",
      "Compressed Veldspar,3413\n"
     ]
    }
   ],
   "source": [
    "for oi in range(len(ore_ids)):\n",
    "    if rval[oi] > 0:\n",
    "        print(\"{},{}\".format(ore_names[oi], rval[oi]))"
   ]
  },
  {
   "cell_type": "code",
   "execution_count": 26,
   "id": "optional-cooperation",
   "metadata": {},
   "outputs": [
    {
     "name": "stdout",
     "output_type": "stream",
     "text": [
      "actual_minerals: {'Tritanium': 991357, 'Pyerite': 223370, 'Mexallon': 72795, 'Isogen': 24914, 'Nocxium': 2800, 'Zydrine': 2880, 'Megacyte': 600}\n",
      "actual_minerals_cost: 28,574,263 ISK\n"
     ]
    }
   ],
   "source": [
    "actual_minerals = [sum([rval[oi] * ore_yields[ore_ids[oi]][m] for oi in range(len(ore_ids))]) for m in mineral_ids]\n",
    "actual_minerals_cost = int(sum([actual_minerals[mi] * mineral_prices[mi] for mi in range(len(mineral_ids))]))\n",
    "print(\"actual_minerals: {}\".format(dict(zip(mineral_names, actual_minerals))))\n",
    "print(\"actual_minerals_cost: {:n} ISK\".format(actual_minerals_cost))"
   ]
  },
  {
   "cell_type": "code",
   "execution_count": 27,
   "id": "divided-claim",
   "metadata": {},
   "outputs": [
    {
     "name": "stdout",
     "output_type": "stream",
     "text": [
      "residual_minerals: {'Tritanium': 194, 'Pyerite': 23, 'Mexallon': 2, 'Isogen': 1, 'Nocxium': 189, 'Zydrine': 79, 'Megacyte': 45}\n",
      "minerals_slippage: 354,707 ISK\n"
     ]
    }
   ],
   "source": [
    "residual_minerals = [actual_minerals[mi] - required_minerals[mi] for mi in range(len(mineral_ids))]\n",
    "minerals_slippage = int(sum([residual_minerals[mi] * mineral_prices[mi] for mi in range(len(mineral_ids))]))\n",
    "print(\"residual_minerals: {}\".format(dict(zip(mineral_names, residual_minerals))))\n",
    "print(\"minerals_slippage: {:n} ISK\".format(minerals_slippage))"
   ]
  },
  {
   "cell_type": "code",
   "execution_count": null,
   "id": "clinical-plane",
   "metadata": {},
   "outputs": [],
   "source": []
  }
 ],
 "metadata": {
  "kernelspec": {
   "display_name": "Python 3",
   "language": "python",
   "name": "python3"
  },
  "language_info": {
   "codemirror_mode": {
    "name": "ipython",
    "version": 3
   },
   "file_extension": ".py",
   "mimetype": "text/x-python",
   "name": "python",
   "nbconvert_exporter": "python",
   "pygments_lexer": "ipython3",
   "version": "3.9.1"
  }
 },
 "nbformat": 4,
 "nbformat_minor": 5
}
