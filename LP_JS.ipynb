{
 "cells": [
  {
   "cell_type": "code",
   "execution_count": 1,
   "id": "educated-circular",
   "metadata": {},
   "outputs": [],
   "source": [
    "// https://github.com/JWally/jsLPSolver\n",
    "const solver = require('javascript-lp-solver')"
   ]
  },
  {
   "cell_type": "code",
   "execution_count": null,
   "id": "selected-exercise",
   "metadata": {},
   "outputs": [],
   "source": []
  },
  {
   "cell_type": "code",
   "execution_count": 2,
   "id": "southeast-porter",
   "metadata": {},
   "outputs": [],
   "source": [
    "const f_zip = (a, b) => a.map((k, i) => [k, b[i]]);"
   ]
  },
  {
   "cell_type": "code",
   "execution_count": 3,
   "id": "sitting-fellowship",
   "metadata": {},
   "outputs": [],
   "source": [
    "const f_zip_func = (a, b, func) => a.map((k, i) => func(k, b[i]));"
   ]
  },
  {
   "cell_type": "code",
   "execution_count": 4,
   "id": "wireless-vegetable",
   "metadata": {},
   "outputs": [],
   "source": [
    "const toObject = (map = new Map) =>\n",
    "  Object.fromEntries\n",
    "    ( Array.from\n",
    "        ( map.entries()\n",
    "        , ([ k, v ]) =>\n",
    "            v instanceof Map\n",
    "              ? [ k, toObject (v) ]\n",
    "              : [ k, v ]\n",
    "        )\n",
    "    )\n"
   ]
  },
  {
   "cell_type": "code",
   "execution_count": null,
   "id": "proper-heath",
   "metadata": {},
   "outputs": [],
   "source": []
  },
  {
   "cell_type": "code",
   "execution_count": 5,
   "id": "french-russian",
   "metadata": {},
   "outputs": [],
   "source": [
    "const input_data = require('./input_data');"
   ]
  },
  {
   "cell_type": "code",
   "execution_count": null,
   "id": "fancy-constitution",
   "metadata": {},
   "outputs": [],
   "source": []
  },
  {
   "cell_type": "markdown",
   "id": "criminal-excellence",
   "metadata": {},
   "source": [
    "## make structures for the mineral ids / names / prices"
   ]
  },
  {
   "cell_type": "code",
   "execution_count": 6,
   "id": "threatened-differential",
   "metadata": {},
   "outputs": [],
   "source": [
    "// make structures for the mineral ids / names / prices\n",
    "function getMineralInfo(itemInfo, itemPrices, itemRequirements) {\n",
    "    let tmp_set = new Set();\n",
    "    let _discard1 = Object.keys(itemRequirements)\n",
    "        .map(x => Object.keys(itemRequirements[x])\n",
    "            .map(y => tmp_set.add(y)));\n",
    "\n",
    "    let mineral_ids = Array.from(tmp_set);\n",
    "    let mineral_names = Array.from(mineral_ids.map(x => itemInfo[x].n));\n",
    "    let mineral_packaged_volumes = Array.from(mineral_ids.map(x => parseFloat(itemInfo[x].pv)));\n",
    "    let mineral_prices = Array.from(mineral_ids.map(x => parseFloat(itemPrices[x])));\n",
    "\n",
    "    return [mineral_ids, mineral_names, mineral_packaged_volumes, mineral_prices]\n",
    "}"
   ]
  },
  {
   "cell_type": "code",
   "execution_count": 7,
   "id": "jewish-korean",
   "metadata": {},
   "outputs": [
    {
     "data": {
      "text/plain": [
       "[\n",
       "  [\n",
       "    '34', '35',\n",
       "    '36', '37',\n",
       "    '38', '39',\n",
       "    '40'\n",
       "  ],\n",
       "  [\n",
       "    'Tritanium',\n",
       "    'Pyerite',\n",
       "    'Mexallon',\n",
       "    'Isogen',\n",
       "    'Nocxium',\n",
       "    'Zydrine',\n",
       "    'Megacyte'\n",
       "  ],\n",
       "  [\n",
       "    0.01, 0.01,\n",
       "    0.01, 0.01,\n",
       "    0.01, 0.01,\n",
       "    0.01\n",
       "  ],\n",
       "  [\n",
       "     6.32, 17.5,\n",
       "    137.7, 36.5,\n",
       "     1159, 1335,\n",
       "    627.8\n",
       "  ]\n",
       "]"
      ]
     },
     "execution_count": 7,
     "metadata": {},
     "output_type": "execute_result"
    }
   ],
   "source": [
    "[mineral_ids, mineral_names, mineral_packaged_volumes, mineral_prices] = getMineralInfo(input_data.itemInfo, input_data.itemPrices, input_data.itemRequirements);"
   ]
  },
  {
   "cell_type": "code",
   "execution_count": null,
   "id": "killing-string",
   "metadata": {},
   "outputs": [],
   "source": []
  },
  {
   "cell_type": "markdown",
   "id": "seven-classics",
   "metadata": {},
   "source": [
    "## what are we requiring minerals for"
   ]
  },
  {
   "cell_type": "code",
   "execution_count": 8,
   "id": "headed-confidence",
   "metadata": {},
   "outputs": [
    {
     "name": "stdout",
     "output_type": "stream",
     "text": [
      "{ ship_build_map: Map(2) { '626' => 1, '16242' => 100 } }\n",
      "{ ship_me_map: Map(2) { '626' => 10, '16242' => 10 } }\n"
     ]
    }
   ],
   "source": [
    "let ship_build_map = new Map(Object.entries({ 16242: 100, 626: 1 }));\n",
    "let ship_me_map = new Map(Object.entries({ 16242: 10, 626: 10 }));\n",
    "\n",
    "console.log({ ship_build_map });\n",
    "console.log({ ship_me_map });"
   ]
  },
  {
   "cell_type": "code",
   "execution_count": null,
   "id": "legitimate-frame",
   "metadata": {},
   "outputs": [],
   "source": []
  },
  {
   "cell_type": "markdown",
   "id": "comprehensive-sender",
   "metadata": {},
   "source": [
    "## what minerals do we need to accomplish this"
   ]
  },
  {
   "cell_type": "code",
   "execution_count": 9,
   "id": "graduate-crash",
   "metadata": {},
   "outputs": [],
   "source": [
    "function calcRequiredMinerals(ship_map, me_map, mineral_ids, itemRequirements) {\n",
    "    \n",
    "    function calc_qty(count, quantity, me, fm) {\n",
    "        return Math.max(parseInt(count),\n",
    "            Math.ceil(Math.fround(parseInt(count) * parseInt(quantity) * (1.0 - parseInt(me) / 100.0) * parseFloat(fm)), 2));\n",
    "    }\n",
    "\n",
    "    var required_minerals_map = new Map(mineral_ids.map(x => [x, 0]));\n",
    "\n",
    "    let _discard2 = ship_map.forEach((sbv, sbk, sbm) => {\n",
    "        let ship_me = me_map.get(sbk);\n",
    "        let ship_minerals_map = new Map(Object.entries(itemRequirements[sbk]));\n",
    "\n",
    "        mineral_ids.map(mineral_id => {\n",
    "            let smv = ship_minerals_map.get(mineral_id);\n",
    "            smv = parseInt((smv === undefined) ? 0 : smv);\n",
    "            let v = required_minerals_map.get(mineral_id);\n",
    "            v = parseInt((v === undefined) ? 0 : v);\n",
    "            required_minerals_map.set(mineral_id, v + calc_qty(sbv, smv, ship_me, 1.0));\n",
    "        });\n",
    "    });\n",
    "\n",
    "   return [required_minerals_map];\n",
    "}"
   ]
  },
  {
   "cell_type": "code",
   "execution_count": 10,
   "id": "legendary-state",
   "metadata": {},
   "outputs": [
    {
     "name": "stdout",
     "output_type": "stream",
     "text": [
      "[\n",
      "  [ 'Tritanium', 4871630 ],\n",
      "  [ 'Pyerite', 1153470 ],\n",
      "  [ 'Mexallon', 394930 ],\n",
      "  [ 'Isogen', 167230 ],\n",
      "  [ 'Nocxium', 2701 ],\n",
      "  [ 'Zydrine', 17381 ],\n",
      "  [ 'Megacyte', 2661 ]\n",
      "]\n"
     ]
    }
   ],
   "source": [
    "[required_minerals_map] = calcRequiredMinerals(ship_build_map, ship_me_map, mineral_ids, input_data.itemRequirements);\n",
    "\n",
    "console.log(f_zip(mineral_names, mineral_ids.map(x => required_minerals_map.get(x))));"
   ]
  },
  {
   "cell_type": "code",
   "execution_count": null,
   "id": "beautiful-kuwait",
   "metadata": {},
   "outputs": [],
   "source": []
  },
  {
   "cell_type": "markdown",
   "id": "rural-found",
   "metadata": {},
   "source": [
    "## What would these minerals cost if we bought them on the market?"
   ]
  },
  {
   "cell_type": "code",
   "execution_count": 11,
   "id": "white-release",
   "metadata": {},
   "outputs": [
    {
     "name": "stdout",
     "output_type": "stream",
     "text": [
      "minerals_cost: 139,464,853\n",
      "minerals_volume: 66,101\n"
     ]
    }
   ],
   "source": [
    "minerals_cost = Math.ceil(f_zip_func(mineral_ids.map(x => required_minerals_map.get(x)),\n",
    "                           mineral_prices, (a, b) => { return a * b }).reduce((a, b) => a + b));\n",
    "console.log(\"minerals_cost: \" + new Intl.NumberFormat().format(minerals_cost));\n",
    "\n",
    "\n",
    "minerals_volume = Math.ceil(f_zip_func(mineral_ids.map(x => required_minerals_map.get(x)),\n",
    "                           mineral_packaged_volumes, (a, b) => { return a * b }).reduce((a, b) => a + b));\n",
    "console.log(\"minerals_volume: \" + new Intl.NumberFormat().format(minerals_volume));\n",
    "\n"
   ]
  },
  {
   "cell_type": "code",
   "execution_count": null,
   "id": "intellectual-detection",
   "metadata": {},
   "outputs": [],
   "source": []
  },
  {
   "cell_type": "markdown",
   "id": "complete-croatia",
   "metadata": {},
   "source": [
    "## make structures for the ore ids / yields / volumes / names / prices"
   ]
  },
  {
   "cell_type": "code",
   "execution_count": 12,
   "id": "included-absolute",
   "metadata": {},
   "outputs": [],
   "source": [
    "function getOreInfo(efficiency, mineral_ids, itemInfo, itemPrices, itemYields) {\n",
    "\n",
    "    let ore_ids = Object.keys(itemInfo)\n",
    "        .filter(x => { t = itemInfo[x].n.split(/\\s+/); return t.length == 2 && t[0] == 'Compressed' })\n",
    "        .sort();\n",
    "\n",
    "    let ore_yields = new Map(ore_ids.map(x => {\n",
    "        ore_yield_map = new Map(Object.entries(itemYields[x]));\n",
    "        return [x, new Map(mineral_ids.map(mineral_id => {\n",
    "            oyv = ore_yield_map.get(mineral_id);\n",
    "            oyv = parseInt((oyv === undefined) ? 0 : Math.floor(oyv * efficiency));\n",
    "            return [mineral_id, oyv]\n",
    "        }))]\n",
    "    }));\n",
    "\n",
    "\n",
    "    let ore_names = Array.from(ore_ids.map(x => itemInfo[x].n));\n",
    "    let ore_packaged_volumes = Array.from(ore_ids.map(x => parseFloat(itemInfo[x].pv)));\n",
    "    let ore_prices = Array.from(ore_ids.map(x => parseFloat(itemPrices[x])));\n",
    "\n",
    "\n",
    "    return [ore_ids, ore_names, ore_packaged_volumes, ore_prices, ore_yields];\n",
    "};"
   ]
  },
  {
   "cell_type": "code",
   "execution_count": 13,
   "id": "radical-baker",
   "metadata": {},
   "outputs": [
    {
     "data": {
      "text/plain": [
       "[\n",
       "  [\n",
       "    '28367', '28388',\n",
       "    '28391', '28397',\n",
       "    '28401', '28403',\n",
       "    '28406', '28410',\n",
       "    '28416', '28420',\n",
       "    '28422', '28424',\n",
       "    '28429', '28432'\n",
       "  ],\n",
       "  [\n",
       "    'Compressed Arkonor',\n",
       "    'Compressed Bistot',\n",
       "    'Compressed Crokite',\n",
       "    'Compressed Gneiss',\n",
       "    'Compressed Hedbergite',\n",
       "    'Compressed Hemorphite',\n",
       "    'Compressed Jaspet',\n",
       "    'Compressed Kernite',\n",
       "    'Compressed Omber',\n",
       "    'Compressed Spodumain',\n",
       "    'Compressed Plagioclase',\n",
       "    'Compressed Pyroxeres',\n",
       "    'Compressed Scordite',\n",
       "    'Compressed Veldspar'\n",
       "  ],\n",
       "  [\n",
       "     8.8,  4.4, 7.81,  1.8,\n",
       "    0.47, 0.86, 0.15, 0.19,\n",
       "     0.3,   28, 0.15, 0.16,\n",
       "    0.19, 0.15\n",
       "  ],\n",
       "  [\n",
       "     368500, 331800, 953400,\n",
       "     330700, 249900, 198900,\n",
       "     109400,  26500,  15180,\n",
       "    1217000,   7890,   5345,\n",
       "       2367,   1902\n",
       "  ],\n",
       "  Map(14) {\n",
       "    '28367' => Map(7) {\n",
       "      '34' => 0,\n",
       "      '35' => 1600,\n",
       "      '36' => 600,\n",
       "      '37' => 0,\n",
       "      '38' => 0,\n",
       "      '39' => 0,\n",
       "      '40' => 60\n",
       "    },\n",
       "    '28388' => Map(7) {\n",
       "      '34' => 0,\n",
       "      '35' => 1600,\n",
       "      '36' => 600,\n",
       "      '37' => 0,\n",
       "      '38' => 0,\n",
       "      '39' => 80,\n",
       "      '40' => 0\n",
       "    },\n",
       "    '28391' => Map(7) {\n",
       "      '34' => 0,\n",
       "      '35' => 400,\n",
       "      '36' => 1000,\n",
       "      '37' => 0,\n",
       "      '38' => 400,\n",
       "      '39' => 0,\n",
       "      '40' => 0\n",
       "    },\n",
       "    '28397' => Map(7) {\n",
       "      '34' => 0,\n",
       "      '35' => 1000,\n",
       "      '36' => 750,\n",
       "      '37' => 400,\n",
       "      '38' => 0,\n",
       "      '39' => 0,\n",
       "      '40' => 0\n",
       "    },\n",
       "    '28401' => Map(7) {\n",
       "      '34' => 0,\n",
       "      '35' => 225,\n",
       "      '36' => 0,\n",
       "      '37' => 0,\n",
       "      '38' => 60,\n",
       "      '39' => 0,\n",
       "      '40' => 0\n",
       "    },\n",
       "    '28403' => Map(7) {\n",
       "      '34' => 0,\n",
       "      '35' => 0,\n",
       "      '36' => 0,\n",
       "      '37' => 120,\n",
       "      '38' => 45,\n",
       "      '39' => 0,\n",
       "      '40' => 0\n",
       "    },\n",
       "    '28406' => Map(7) {\n",
       "      '34' => 0,\n",
       "      '35' => 0,\n",
       "      '36' => 75,\n",
       "      '37' => 0,\n",
       "      '38' => 25,\n",
       "      '39' => 0,\n",
       "      '40' => 0\n",
       "    },\n",
       "    '28410' => Map(7) {\n",
       "      '34' => 0,\n",
       "      '35' => 0,\n",
       "      '36' => 30,\n",
       "      '37' => 60,\n",
       "      '38' => 0,\n",
       "      '39' => 0,\n",
       "      '40' => 0\n",
       "    },\n",
       "    '28416' => Map(7) {\n",
       "      '34' => 0,\n",
       "      '35' => 45,\n",
       "      '36' => 0,\n",
       "      '37' => 37,\n",
       "      '38' => 0,\n",
       "      '39' => 0,\n",
       "      '40' => 0\n",
       "    },\n",
       "    '28420' => Map(7) {\n",
       "      '34' => 24000,\n",
       "      '35' => 0,\n",
       "      '36' => 0,\n",
       "      '37' => 500,\n",
       "      '38' => 80,\n",
       "      '39' => 40,\n",
       "      '40' => 20\n",
       "    },\n",
       "    '28422' => Map(7) {\n",
       "      '34' => 87,\n",
       "      '35' => 0,\n",
       "      '36' => 35,\n",
       "      '37' => 0,\n",
       "      '38' => 0,\n",
       "      '39' => 0,\n",
       "      '40' => 0\n",
       "    },\n",
       "    '28424' => Map(7) {\n",
       "      '34' => 0,\n",
       "      '35' => 45,\n",
       "      '36' => 15,\n",
       "      '37' => 0,\n",
       "      '38' => 0,\n",
       "      '39' => 0,\n",
       "      '40' => 0\n",
       "    },\n",
       "    '28429' => Map(7) {\n",
       "      '34' => 75,\n",
       "      '35' => 45,\n",
       "      '36' => 0,\n",
       "      '37' => 0,\n",
       "      '38' => 0,\n",
       "      '39' => 0,\n",
       "      '40' => 0\n",
       "    },\n",
       "    '28432' => Map(7) {\n",
       "      '34' => 200,\n",
       "      '35' => 0,\n",
       "      '36' => 0,\n",
       "      '37' => 0,\n",
       "      '38' => 0,\n",
       "      '39' => 0,\n",
       "      '40' => 0\n",
       "    }\n",
       "  }\n",
       "]"
      ]
     },
     "execution_count": 13,
     "metadata": {},
     "output_type": "execute_result"
    }
   ],
   "source": [
    "// we never get 100% of the yield when refining ore. \n",
    "refining_efficiency = parseFloat(0.50);\n",
    "\n",
    "[ore_ids, ore_names, ore_packaged_volumes, ore_prices, ore_yields] = getOreInfo(refining_efficiency, mineral_ids, input_data.itemInfo, input_data.itemPrices, input_data.itemYields);"
   ]
  },
  {
   "cell_type": "code",
   "execution_count": null,
   "id": "veterinary-throat",
   "metadata": {},
   "outputs": [],
   "source": []
  },
  {
   "cell_type": "markdown",
   "id": "sustainable-boating",
   "metadata": {},
   "source": [
    "## Solve for cheapest combination of ore to get required minerals"
   ]
  },
  {
   "cell_type": "code",
   "execution_count": 14,
   "id": "round-china",
   "metadata": {},
   "outputs": [],
   "source": [
    "function calcRequiredOres(required_minerals_map, mineral_ids, mineral_names, ore_ids, ore_names, ore_prices, ore_yields) {\n",
    "\n",
    "    // See https://github.com/JWally/jsLPSolver for examples\n",
    "    \n",
    "    let opt_vars = new Map(ore_ids.map((ore_id, i) => {\n",
    "        let m = new Map(mineral_ids.map((mineral_id, j) => {\n",
    "            return [mineral_names[j], ore_yields.get(ore_id).get(mineral_id)]\n",
    "        }));\n",
    "        m.set('_price', ore_prices[i].valueOf());\n",
    "        return [ore_id, m];\n",
    "    }));\n",
    "\n",
    "    let opt_cons = new Map(f_zip(mineral_names, mineral_ids.map(x => new Map([['min', required_minerals_map.get(x).valueOf()]]))));\n",
    "\n",
    "    // solver very slow with many integer contraints.\n",
    "    // constrain the highest-priced ores so the resulting price differential will be smallest.\n",
    "    let solver_goes_nuts_maxint = 10;\n",
    "    let ore_idx_price = f_zip(ore_ids, ore_prices).sort((a, b) => b[1] - a[1]).map(x => x[0])\n",
    "    let opt_ints = new Map(ore_idx_price.map((x, i) => [x, i<solver_goes_nuts_maxint?1:0]));\n",
    "\n",
    "    let opt_model = toObject(new Map([\n",
    "        ['optimize', '_price'],\n",
    "        ['opType', 'min'],\n",
    "        ['constraints', opt_cons],\n",
    "        ['variables', opt_vars],\n",
    "        ['ints', opt_ints],\n",
    "        ]));\n",
    "\n",
    "    let opt_res = solver.Solve(opt_model);\n",
    "    \n",
    "    let required_ores_map = new Map(Object.entries(opt_res)\n",
    "                        .filter(x => ore_ids.indexOf(x[0]) >= 0)\n",
    "                        .map(x => [x[0], Math.ceil(x[1])]));\n",
    "    ore_ids.map(x => {\n",
    "            if (required_ores_map.get(x) === undefined) {\n",
    "                required_ores_map.set(x, 0);\n",
    "            }\n",
    "    });\n",
    "\n",
    "    return [required_ores_map];\n",
    "}"
   ]
  },
  {
   "cell_type": "code",
   "execution_count": 15,
   "id": "wired-increase",
   "metadata": {},
   "outputs": [
    {
     "name": "stdout",
     "output_type": "stream",
     "text": [
      "{\n",
      "  required_ores_map: Map(14) {\n",
      "    '28367' => 45,\n",
      "    '28388' => 218,\n",
      "    '28391' => 7,\n",
      "    '28410' => 2786,\n",
      "    '28416' => 2,\n",
      "    '28422' => 4188,\n",
      "    '28429' => 16218,\n",
      "    '28432' => 16456,\n",
      "    '28397' => 0,\n",
      "    '28401' => 0,\n",
      "    '28403' => 0,\n",
      "    '28406' => 0,\n",
      "    '28420' => 0,\n",
      "    '28424' => 0\n",
      "  }\n",
      "}\n",
      "[\n",
      "  [ 'Compressed Arkonor', 45 ],\n",
      "  [ 'Compressed Bistot', 218 ],\n",
      "  [ 'Compressed Crokite', 7 ],\n",
      "  [ 'Compressed Gneiss', 0 ],\n",
      "  [ 'Compressed Hedbergite', 0 ],\n",
      "  [ 'Compressed Hemorphite', 0 ],\n",
      "  [ 'Compressed Jaspet', 0 ],\n",
      "  [ 'Compressed Kernite', 2786 ],\n",
      "  [ 'Compressed Omber', 2 ],\n",
      "  [ 'Compressed Spodumain', 0 ],\n",
      "  [ 'Compressed Plagioclase', 4188 ],\n",
      "  [ 'Compressed Pyroxeres', 0 ],\n",
      "  [ 'Compressed Scordite', 16218 ],\n",
      "  [ 'Compressed Veldspar', 16456 ]\n",
      "]\n"
     ]
    }
   ],
   "source": [
    "[required_ores_map] = calcRequiredOres(required_minerals_map, mineral_ids, mineral_names, ore_ids, ore_names, ore_prices, ore_yields);\n",
    "\n",
    "console.log({required_ores_map});\n",
    "console.log(f_zip(ore_names, ore_ids.map(x => required_ores_map.get(x))));"
   ]
  },
  {
   "cell_type": "code",
   "execution_count": null,
   "id": "infrared-belfast",
   "metadata": {},
   "outputs": [],
   "source": []
  },
  {
   "cell_type": "markdown",
   "id": "sweet-equation",
   "metadata": {},
   "source": [
    "## How much will this ore cost?"
   ]
  },
  {
   "cell_type": "code",
   "execution_count": 16,
   "id": "promising-joshua",
   "metadata": {},
   "outputs": [
    {
     "name": "stdout",
     "output_type": "stream",
     "text": [
      "minerals_cost: 272,178,698\n",
      "minerals_volume: 8,118\n"
     ]
    }
   ],
   "source": [
    "minerals_cost = Math.ceil(f_zip_func(ore_ids\n",
    "    .map((x, i) => required_ores_map.get(x)), ore_prices, (a, b) => { return a * b })\n",
    "    .reduce((a, b) => a + b));\n",
    "console.log(\"minerals_cost: \" + new Intl.NumberFormat().format(minerals_cost));\n",
    "\n",
    "minerals_volume = Math.ceil(f_zip_func(ore_ids\n",
    "    .map((x, i) => required_ores_map.get(x)), ore_packaged_volumes, (a, b) => { return a * b })\n",
    "    .reduce((a, b) => a + b));\n",
    "console.log(\"minerals_volume: \" + new Intl.NumberFormat().format(minerals_volume));\n"
   ]
  },
  {
   "cell_type": "code",
   "execution_count": null,
   "id": "standard-discipline",
   "metadata": {},
   "outputs": [],
   "source": []
  },
  {
   "cell_type": "markdown",
   "id": "neural-society",
   "metadata": {},
   "source": [
    "## What actual minerals and residuals (assuming refining_yield) do we expect?"
   ]
  },
  {
   "cell_type": "code",
   "execution_count": 17,
   "id": "talented-summit",
   "metadata": {},
   "outputs": [],
   "source": [
    "function calcActualResidualMinerals(required_ores_map, mineral_ids, ore_ids, ore_yields) {\n",
    "    let actual_minerals_map = new Map(mineral_ids.map(x => [x, 0]));\n",
    "\n",
    "    ore_ids.map((x, i) => {\n",
    "        required_qty = required_ores_map.get(x);\n",
    "        required_qty = parseInt((required_qty === undefined) ? 0 : required_qty);\n",
    "\n",
    "        yield_map = ore_yields.get(x);\n",
    "        mineral_ids.map((y, j) => {\n",
    "            myv = yield_map.get(y);\n",
    "            myv = parseInt((myv === undefined) ? 0 : myv);\n",
    "            amv = actual_minerals_map.get(y);\n",
    "            amv = parseInt((amv === undefined) ? 0 : amv);\n",
    "            actual_minerals_map.set(y, amv + required_qty * myv);\n",
    "\n",
    "        })\n",
    "    })\n",
    "\n",
    "    let residual_minerals_map = new Map(f_zip(mineral_ids,\n",
    "                                f_zip_func(mineral_ids.map(x => actual_minerals_map.get(x)),\n",
    "                                           mineral_ids.map(x => required_minerals_map.get(x)),\n",
    "                                           (a, b) => a - b)));\n",
    "\n",
    "    return [actual_minerals_map, residual_minerals_map];\n",
    "}"
   ]
  },
  {
   "cell_type": "code",
   "execution_count": 18,
   "id": "according-replica",
   "metadata": {},
   "outputs": [
    {
     "name": "stdout",
     "output_type": "stream",
     "text": [
      "[\n",
      "  [ 'Tritanium', 4871906 ],\n",
      "  [ 'Pyerite', 1153500 ],\n",
      "  [ 'Mexallon', 394960 ],\n",
      "  [ 'Isogen', 167234 ],\n",
      "  [ 'Nocxium', 2800 ],\n",
      "  [ 'Zydrine', 17440 ],\n",
      "  [ 'Megacyte', 2700 ]\n",
      "]\n",
      "[\n",
      "  [ 'Tritanium', 276 ],\n",
      "  [ 'Pyerite', 30 ],\n",
      "  [ 'Mexallon', 30 ],\n",
      "  [ 'Isogen', 4 ],\n",
      "  [ 'Nocxium', 99 ],\n",
      "  [ 'Zydrine', 59 ],\n",
      "  [ 'Megacyte', 39 ]\n",
      "]\n"
     ]
    }
   ],
   "source": [
    "[actual_minerals_map, residual_minerals_map] = calcActualResidualMinerals(required_ores_map, mineral_ids, ore_ids, ore_yields);\n",
    "\n",
    "console.log(f_zip(mineral_names, mineral_ids.map(x => actual_minerals_map.get(x))));\n",
    "console.log(f_zip(mineral_names, mineral_ids.map(x => residual_minerals_map.get(x))));"
   ]
  },
  {
   "cell_type": "code",
   "execution_count": null,
   "id": "incorporated-commission",
   "metadata": {},
   "outputs": [],
   "source": []
  }
 ],
 "metadata": {
  "kernelspec": {
   "display_name": "Javascript (Node.js)",
   "language": "javascript",
   "name": "javascript"
  },
  "language_info": {
   "file_extension": ".js",
   "mimetype": "application/javascript",
   "name": "javascript",
   "version": "13.6.0"
  }
 },
 "nbformat": 4,
 "nbformat_minor": 5
}
